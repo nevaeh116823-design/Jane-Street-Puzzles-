{
 "cells": [
  {
   "cell_type": "markdown",
   "id": "4afbb04d",
   "metadata": {},
   "source": [
    "# 初始代码（4o）"
   ]
  },
  {
   "cell_type": "code",
   "execution_count": null,
   "id": "1b8a1ef2",
   "metadata": {},
   "outputs": [
    {
     "name": "stdout",
     "output_type": "stream",
     "text": [
      " message: Solution found.\n",
      " success: True\n",
      "  status: 0\n",
      "     fun: 0.0030155855822074904\n",
      "       x: 1.1771860419694444\n",
      "     nit: 12\n",
      "    nfev: 12\n"
     ]
    },
    {
     "data": {
      "text/plain": [
       "np.float64(1.177186041969)"
      ]
     },
     "execution_count": 45,
     "metadata": {},
     "output_type": "execute_result"
    }
   ],
   "source": [
    "import numpy as np\n",
    "from scipy.integrate import dblquad\n",
    "from scipy.optimize import minimize_scalar\n",
    "\n",
    "# 定义新的损失函数 L(v1, v2, a)，考虑超车概率和不同车道情况\n",
    "def integrand_total_loss(v1, v2, a):\n",
    "    if v1 <= v2:\n",
    "        return 0  # 不构成超车，不考虑\n",
    "    elif v1 < a and v2 < a:\n",
    "        # 两车在慢车道：损失是 v2^2，乘以超车概率 (v1 - v2)\n",
    "        return (v1 - v2)/(v1*v2) * v2**2\n",
    "    elif v1 > a and v2 > a:\n",
    "        # 两车在快车道：损失是 (v2 - a)^2，乘以超车概率 (v1 - v2)\n",
    "        return (v1 - v2)/(v1*v2) * (v2 - a)**2\n",
    "    else:\n",
    "        # 一快一慢，分在不同车道，不构成阻碍，损失为0\n",
    "        return 0\n",
    "\n",
    "# 对每一个 a ∈ [1,2] 计算期望损失的积分\n",
    "def expected_loss(a):\n",
    "    # 积分区域是 v2 in [1,2], v1 in [v2, 2] （确保 v1 > v2）\n",
    "    result, _ = dblquad(\n",
    "        lambda v1, v2: integrand_total_loss(v1, v2, a),\n",
    "        1, 2,  # v2 下限和上限\n",
    "        lambda v2: v2,  # v1 下限\n",
    "        lambda v2: 2    # v1 上限\n",
    "    )\n",
    "    return result\n",
    "# 使用带界优化在 a ∈ [1, 2] 上最小化期望损失\n",
    "res = minimize_scalar(expected_loss, bounds=(1, 2), method='bounded')\n",
    "print(res)\n",
    "optimal_a = round(res.x, 12)\n",
    "optimal_a"
   ]
  },
  {
   "cell_type": "markdown",
   "id": "4cc36921",
   "metadata": {},
   "source": [
    "# 尝试精度优化"
   ]
  },
  {
   "cell_type": "code",
   "execution_count": 55,
   "id": "26306b5b",
   "metadata": {},
   "outputs": [
    {
     "name": "stdout",
     "output_type": "stream",
     "text": [
      " message: Solution found.\n",
      " success: True\n",
      "  status: 0\n",
      "     fun: 0.003015586417843473\n",
      "       x: 1.1771414248396577\n",
      "     nit: 11\n",
      "    nfev: 11\n"
     ]
    },
    {
     "data": {
      "text/plain": [
       "np.float64(1.17714142484)"
      ]
     },
     "execution_count": 55,
     "metadata": {},
     "output_type": "execute_result"
    }
   ],
   "source": [
    "import numpy as np\n",
    "from scipy.integrate import dblquad\n",
    "from scipy.optimize import minimize_scalar\n",
    "from scipy.integrate import quad\n",
    "\n",
    "def part_slow(a):\n",
    "    # v2∈[1,a]  v1∈[v2,a]\n",
    "    return quad(\n",
    "        lambda v2: quad(\n",
    "            lambda v1: (v1-v2)/(v1*v2)*v2**2,\n",
    "            v2, a, epsabs=1e-12, epsrel=1e-12\n",
    "        )[0],\n",
    "        1, a, epsabs=1e-12, epsrel=1e-12\n",
    "    )[0]\n",
    "\n",
    "def part_fast(a):\n",
    "    # v2∈[a,2]  v1∈[v2,2]\n",
    "    return quad(\n",
    "        lambda v2: quad(\n",
    "            lambda v1: (v1-v2)/(v1*v2)*(v2-a)**2,\n",
    "            v2, 2, epsabs=1e-12, epsrel=1e-12\n",
    "        )[0],\n",
    "        a, 2, epsabs=1e-12, epsrel=1e-12\n",
    "    )[0]\n",
    "\n",
    "def expected_loss(a):\n",
    "    return part_slow(a) + part_fast(a)\n",
    "\n",
    "res = minimize_scalar(expected_loss,\n",
    "    bounds=(1, 2), \n",
    "    method='bounded',\n",
    "    options={'xatol':1e-12})\n",
    "print(res)\n",
    "optimal_a = round(res.x, 12)\n",
    "optimal_a"
   ]
  },
  {
   "cell_type": "markdown",
   "id": "c9470361",
   "metadata": {},
   "source": [
    "### 误差检验\n",
    "  epsabs=1e-12使得quad只保证对一次一维积分误差不超过1e-12，两层quad使得误差累积（1e-10），slow & fast part会继续累积误差\n",
    "  a只改动10**（-9），真实损失函数变化＜误差抖动，优化器失效 "
   ]
  },
  {
   "cell_type": "code",
   "execution_count": 57,
   "id": "cb92e3f9",
   "metadata": {},
   "outputs": [
    {
     "name": "stdout",
     "output_type": "stream",
     "text": [
      "估算值: 0.0030165216954305693\n",
      "quad 报告误差: 0.0021210422029061043\n"
     ]
    }
   ],
   "source": [
    "val, err = part_slow(1.18), part_fast(1.18)\n",
    "print(\"估算值:\", val + err)\n",
    "print(\"quad 报告误差:\", err)"
   ]
  },
  {
   "cell_type": "markdown",
   "id": "0ea6787a",
   "metadata": {},
   "source": [
    "## 进一步优化"
   ]
  },
  {
   "cell_type": "code",
   "execution_count": null,
   "id": "1669542e",
   "metadata": {},
   "outputs": [
    {
     "name": "stdout",
     "output_type": "stream",
     "text": [
      "1.1771414168155060174\n"
     ]
    }
   ],
   "source": [
    "import mpmath as mp\n",
    "\n",
    "mp.dps = 40        # 工作 40 位小数\n",
    "def part_slow_mp(a):\n",
    "    f1 = lambda v1, v2: (v1-v2)/(v1*v2)*v2**2\n",
    "    return mp.quad(lambda v2: mp.quad(lambda v1: f1(v1, v2), [v2, a]), [1, a])\n",
    "\n",
    "def part_fast_mp(a):\n",
    "    f2 = lambda v1, v2, a: (v1-v2)/(v1*v2)*(v2-a)**2\n",
    "    return mp.quad(lambda v2: mp.quad(lambda v1: f2(v1, v2, a), [v2, 2]), [a, 2])\n",
    "\n",
    "def expected_loss_mp(a):\n",
    "    return part_slow_mp(a) + part_fast_mp(a)\n",
    "\n",
    "d_expected_loss = lambda a: mp.diff(expected_loss_mp, a)\n",
    "root = mp.findroot(d_expected_loss, 1.18)\n",
    "print(root)        "
   ]
  }
 ],
 "metadata": {
  "kernelspec": {
   "display_name": "base",
   "language": "python",
   "name": "python3"
  },
  "language_info": {
   "codemirror_mode": {
    "name": "ipython",
    "version": 3
   },
   "file_extension": ".py",
   "mimetype": "text/x-python",
   "name": "python",
   "nbconvert_exporter": "python",
   "pygments_lexer": "ipython3",
   "version": "3.12.7"
  }
 },
 "nbformat": 4,
 "nbformat_minor": 5
}
