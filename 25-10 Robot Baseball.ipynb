{
 "cells": [
  {
   "cell_type": "markdown",
   "id": "941d1681",
   "metadata": {},
   "source": [
    "# Puzzle\n",
    "The Artificial Automaton Athletics Association (Quad-A) is at it again, to compete with postseason baseball they are developing a Robot Baseball competition. Games are composed of a series of independent at-bats in which the batter is trying to maximize expected score and the pitcher is trying to minimize expected score.\n",
    "\n",
    "An at-bat is a series of pitches with a running count of balls and strikes, both starting at zero. For each pitch, the pitcher decides whether to throw a ball or strike, and the batter decides whether to wait or swing; these decisions are made secretly and simultaneously. The results of these choices are as follows.\n",
    "\n",
    "- If the pitcher throws a ball and the batter waits, the count of balls is incremented by 1.\n",
    "- If the pitcher throws a strike and the batter waits, the count of strikes is incremented by 1.\n",
    "- If the pitcher throws a ball and the batter swings, the count of strikes is incremented by 1.\n",
    "- If the pitcher throws a strike and the batter swings, with probability p the batter hits a home run1 and with probability 1-p the count of strikes is incremented by 1.\n",
    "\n",
    "An at-bat ends when either:\n",
    "\n",
    "- The count of balls reaches 4, in which case the batter receives 1 point.\n",
    "- The count of strikes reaches 3, in which case the batter receives 0 points.\n",
    "- The batter hits a home run, in which case the batter receives 4 points.\n",
    "\n",
    "By varying the size of the strike zone, Quad-A can adjust the value p, the probability a pitched strike that is swung at results in a home run. They have found that viewers are most excited by at-bats that reach a full count, that is, the at-bats that reach the state of three balls and two strikes. Let q be the probability of at-bats reaching full count; q is dependent on p. Assume the batter and pitcher are both using optimal mixed strategies and Quad-A has chosen the p that maximizes q. Find this q, the maximal probability at-bats reach full count, to ten decimal places.\n",
    "\n",
    "Robot fielding has a long way to go. ↩"
   ]
  },
  {
   "cell_type": "markdown",
   "id": "e387575d",
   "metadata": {},
   "source": [
    "# Solution\n",
    "\n",
    "\n",
    "## Puzzle Overview\n",
    "\n",
    "This puzzle could be regarded as a simultaneous game beteween pitcher and batter:\n",
    "\n",
    "- **Pitcher** chooses: throw a Ball or Strike\n",
    "- **Batter** chooses: Wait or Swing\n",
    "\n",
    "### Outcomes:\n",
    "1. Ball + Wait → ball count +1\n",
    "2. Strike + Wait → strike count +1\n",
    "3. Ball + Swing → strike count +1\n",
    "4. Strike + Swing → Home run (with prob p) for 4 points, or strike count +1 (with prob 1-p)\n",
    "\n",
    "### Terminal States:\n",
    "- 4 balls → 1 point (walk)\n",
    "- 3 strikes → 0 points (strikeout)\n",
    "- Home run → 4 points\n",
    "\n",
    "**Goal**: Find the value of p that maximizes the probability of reaching full count (3 balls, 2 strikes).\n",
    "\n",
    "**Key Insight**: The home run prob p affects how aggressively both players behave. If p is too high, batters will swing too often and games end quickly. If p is too low, batters won't swing enough. There's a sweet spot where the game is most likely to reach that exciting full count situation.\n",
    "\n",
    "let's start by setting up basic structures."
   ]
  },
  {
   "cell_type": "code",
   "execution_count": 3,
   "id": "c76503cc",
   "metadata": {},
   "outputs": [],
   "source": [
    "import numpy as np\n",
    "import matplotlib.pyplot as plt"
   ]
  },
  {
   "cell_type": "markdown",
   "id": "ead85ee5",
   "metadata": {},
   "source": [
    "## Step 1: Modeling the Game Theory - Optimal Strategies\n",
    "\n",
    "At each state (b,s), both players are playing optimally. The pitcher wants to minimize the batter's expected score, while the batter wants to maximize it.\n",
    "\n",
    "This is a zero-sum game, so we can use the concept of **Nash Equilibrium**. At each state, the optimal mixed strategy makes the opponent indifferent between their pure strategies.\n",
    "\n",
    "Define the value function V(b,s) as the expected score from state(b,s). \n",
    "\n",
    "The payoff matrix for the batter is:\n",
    "\n",
    "```\n",
    "                Pitcher\n",
    "              Ball    Strike\n",
    "Batter Wait   V(b+1,s)  V(b,s+1)\n",
    "       Swing  V(b,s+1)  p*4 + (1-p)*V(b,s+1)\n",
    "```\n",
    "\n",
    "The mixed strategy equilibrium  occurs when both players randomize in a way that makes the opponent indifferent. The key variable is Δ = V(b+1,s) - V(b,s+1), the difference in value between getting a ball vs a strike.\n",
    "\n",
    "**Nash Equilibrium:**\n",
    "- If Δ > 0 and V(b,s+1) < 4: Mixed strategy with π_p = π_b = Δ / (Δ + p(4 - V(b,s+1)))\n",
    "- If Δ < 0: Pure strategy (always strike, always swing)\n",
    "- If Δ ≈ 0: Pure strategy (always ball, always wait)"
   ]
  },
  {
   "cell_type": "code",
   "execution_count": 4,
   "id": "1a73d711",
   "metadata": {},
   "outputs": [],
   "source": [
    "def solve_game_value(p):\n",
    "    V = np.zeros((5,4)) # V[balls][strikes]\n",
    "    pitcher_strat = np.zeros((5,4))\n",
    "    batter_strat = np.zeros((5,4))\n",
    "    \n",
    "    #set terminal states\n",
    "    V[4,:3] = 1.0 #walk\n",
    "    V[:4,3] = 0.0 #strikeout\n",
    "    \n",
    "    #backward induction\n",
    "    for s in range(2,-1,-1):\n",
    "        for b in range(3,-1,-1):\n",
    "            value_ball = V[b+1,s]\n",
    "            value_strike = V[b,s+1]\n",
    "            \n",
    "            Delta = value_ball - value_strike\n",
    "            \n",
    "            #small epsilon for numerical stability\n",
    "            eps = 1e-10\n",
    "            \n",
    "            if Delta > eps and value_strike < 4-eps:\n",
    "                #mixed strategy equilibrium\n",
    "                denominator = Delta + p*(4-value_strike)\n",
    "                strike_prob = Delta / denominator\n",
    "                swing_prob = strike_prob #symmetric in zero-sum games\n",
    "                \n",
    "                pitcher_strat[b,s] = strike_prob\n",
    "                batter_strat[b,s] = swing_prob\n",
    "                V[b,s] = value_ball - Delta *strike_prob\n",
    "            \n",
    "            elif Delta < -eps:\n",
    "                #pure strategy: always throw strikes, always swing\n",
    "                pitcher_strat[b,s] = 1.0\n",
    "                batter_strat[b,s] = 1.0\n",
    "                V[b,s] = p*4 + (1-p)*value_strike\n",
    "            \n",
    "            else:\n",
    "                #pure strategy: always throw balls, always wait\n",
    "                pitcher_strat[b,s] = 0.0\n",
    "                batter_strat[b,s] = 0.0\n",
    "                V[b,s] = value_ball\n",
    "            \n",
    "    return V, pitcher_strat, batter_strat\n",
    "    "
   ]
  },
  {
   "cell_type": "markdown",
   "id": "a90d6e2d",
   "metadata": {},
   "source": [
    "## Step 2: Calculating the Probability of Reaching Full Count\n",
    "\n",
    "Now that we can compute the optimal strategies for any given p. Given the optimal strategies, we compute P(b, s) = probability of reaching (3, 2) from state (b, s).\n",
    "\n",
    "We work backwards from P(3, 2) = 1.\n",
    "At each state, the probability P(b,s) equals:\n",
    "- Probability of ball+wait × P(b+1,s)\n",
    "- Plus probability of any strike outcome × P(b,s+1)\n",
    "- Home runs contribute 0 probability (game ends)"
   ]
  },
  {
   "cell_type": "code",
   "execution_count": 5,
   "id": "7ee8dae1",
   "metadata": {},
   "outputs": [],
   "source": [
    "def compute_full_count_probability(p):\n",
    "    \"\"\"\n",
    "    Compute probability of reaching full count (3,2) from initial state\n",
    "    \"\"\"\n",
    "    V, pitcher_strat, batter_strat = solve_game_value(p)\n",
    "    \n",
    "    # P[b,s] = probability of reaching (3,2) from state (b,s)\n",
    "    P = np.zeros((5, 4))\n",
    "    P[3, 2] = 1.0  # We're already at the target\n",
    "    \n",
    "    # Work backwards to compute probabilities\n",
    "    for s in range(2, -1, -1):\n",
    "        for b in range(3, -1, -1):\n",
    "            if b == 3 and s == 2:\n",
    "                continue  # Skip the target state\n",
    "                \n",
    "            p_strike = pitcher_strat[b, s]\n",
    "            p_swing = batter_strat[b, s]\n",
    "            \n",
    "            # Probability of ball + wait\n",
    "            prob_ball_wait = (1 - p_strike) * (1 - p_swing)\n",
    "            \n",
    "            # Probability of any strike outcome (including foul balls)\n",
    "            prob_strike_outcome = ((1 - p_strike) * p_swing +      # ball + swing\n",
    "                                  p_strike * (1 - p_swing) +       # strike + wait  \n",
    "                                  p_strike * p_swing * (1 - p))    # strike + swing (no HR)\n",
    "            \n",
    "            P[b, s] = (prob_ball_wait * P[b+1, s] + \n",
    "                       prob_strike_outcome * P[b, s+1])\n",
    "    \n",
    "    return P[0, 0]  # Probability from initial state"
   ]
  },
  {
   "cell_type": "markdown",
   "id": "c1ee0c3c",
   "metadata": {},
   "source": [
    "## Step 3: Finding the Optimal p - The Search Process\n",
    "\n",
    "Now we need to find the p that maximizes the full count probability. Since this is a continuous optimization problem, I'll:\n",
    "1. First do a coarse search to find the rough region of the optimum\n",
    "2. Then do a fine search in that region for precision\n",
    "3. Visualize the relationship to understand the behavior"
   ]
  },
  {
   "cell_type": "code",
   "execution_count": 6,
   "id": "7648b502",
   "metadata": {},
   "outputs": [
    {
     "name": "stdout",
     "output_type": "stream",
     "text": [
      "Computing q(p) for various p values...\n",
      "Progress: 20.0%\n",
      "Progress: 40.0%\n",
      "Progress: 60.0%\n",
      "Progress: 80.0%\n",
      "Progress: 100.0%\n",
      "Coarse search result: p ≈ 0.2286, q ≈ 0.295961\n"
     ]
    },
    {
     "data": {
      "image/png": "[encoded data removed]",
      "text/plain": [
       "<Figure size 1000x600 with 1 Axes>"
      ]
     },
     "metadata": {},
     "output_type": "display_data"
    }
   ],
   "source": [
    "# First, let's understand the landscape by plotting q(p)\n",
    "p_values = np.linspace(0.1, 0.4, 50)\n",
    "q_values = []\n",
    "\n",
    "print(\"Computing q(p) for various p values...\")\n",
    "for p in p_values:\n",
    "    q = compute_full_count_probability(p)\n",
    "    q_values.append(q)\n",
    "    if len(q_values) % 10 == 0:\n",
    "        print(f\"Progress: {len(q_values)/len(p_values)*100:.1f}%\")\n",
    "\n",
    "# Find the maximum from our coarse search\n",
    "best_idx = np.argmax(q_values)\n",
    "optimal_p_coarse = p_values[best_idx]\n",
    "max_q_coarse = q_values[best_idx]\n",
    "\n",
    "print(f\"Coarse search result: p ≈ {optimal_p_coarse:.4f}, q ≈ {max_q_coarse:.6f}\")\n",
    "\n",
    "# Plot the relationship\n",
    "plt.figure(figsize=(10, 6))\n",
    "plt.plot(p_values, q_values, 'b-', linewidth=2, label='q(p)')\n",
    "plt.plot(optimal_p_coarse, max_q_coarse, 'ro', markersize=8, \n",
    "         label=f'Maximum: p={optimal_p_coarse:.3f}, q={max_q_coarse:.4f}')\n",
    "plt.xlabel('Home Run Probability (p)')\n",
    "plt.ylabel('Full Count Probability (q)')\n",
    "plt.title('Finding the Optimal Home Run Probability')\n",
    "plt.legend()\n",
    "plt.grid(True, alpha=0.3)\n",
    "plt.show()"
   ]
  },
  {
   "cell_type": "markdown",
   "id": "ab2f4347",
   "metadata": {},
   "source": [
    "## Step 4: Refining the Solution - Fine Search\n",
    "\n",
    "The coarse search gives us a rough idea, but we need more precision. Let's zoom in around the optimum and search more carefully."
   ]
  },
  {
   "cell_type": "code",
   "execution_count": 7,
   "id": "18136b3d",
   "metadata": {},
   "outputs": [
    {
     "name": "stdout",
     "output_type": "stream",
     "text": [
      "Fine search result: p = 0.227056, q = 0.2959679749\n",
      "==================================================\n",
      "FINAL RESULT\n",
      "==================================================\n",
      "Optimal home run probability: p = 0.227006\n",
      "Maximum full count probability: q = 0.2959679905\n",
      "==================================================\n"
     ]
    }
   ],
   "source": [
    "# Fine search around the optimum from coarse search\n",
    "fine_p_values = np.linspace(optimal_p_coarse - 0.05, optimal_p_coarse + 0.05, 100)\n",
    "fine_q_values = [compute_full_count_probability(p) for p in fine_p_values]\n",
    "\n",
    "# Find the precise optimum\n",
    "best_fine_idx = np.argmax(fine_q_values)\n",
    "optimal_p_fine = fine_p_values[best_fine_idx]\n",
    "max_q_fine = fine_q_values[best_fine_idx]\n",
    "\n",
    "print(f\"Fine search result: p = {optimal_p_fine:.6f}, q = {max_q_fine:.10f}\")\n",
    "\n",
    "# Even finer search for the final answer\n",
    "super_fine_p = np.linspace(optimal_p_fine - 0.01, optimal_p_fine + 0.01, 200)\n",
    "super_fine_q = [compute_full_count_probability(p) for p in super_fine_p]\n",
    "\n",
    "final_best_idx = np.argmax(super_fine_q)\n",
    "optimal_p_final = super_fine_p[final_best_idx]\n",
    "max_q_final = super_fine_q[final_best_idx]\n",
    "\n",
    "print(\"=\" * 50)\n",
    "print(\"FINAL RESULT\")\n",
    "print(\"=\" * 50)\n",
    "print(f\"Optimal home run probability: p = {optimal_p_final:.6f}\")\n",
    "print(f\"Maximum full count probability: q = {max_q_final:.10f}\")\n",
    "print(\"=\" * 50)"
   ]
  },
  {
   "cell_type": "markdown",
   "id": "da057717",
   "metadata": {},
   "source": [
    "## Step 5: Understanding the Optimal Strategies\n",
    "Now that we have the optimal p, let's examine what the optimal strategies look like. This will help us understand why this particular p value works best."
   ]
  },
  {
   "cell_type": "code",
   "execution_count": 8,
   "id": "4c77e2ff",
   "metadata": {},
   "outputs": [
    {
     "name": "stdout",
     "output_type": "stream",
     "text": [
      "Optimal Strategies at p = {optimal_p_final:.4f}:\n",
      "\n",
      "Pitcher Strategy (probability of throwing strike):\n",
      "     0 strikes   1 strike    2 strikes\n",
      "0 balls:   0.287     0.265     0.204   \n",
      "1 balls:   0.308     0.310     0.256   \n",
      "2 balls:   0.305     0.365     0.344   \n",
      "3 balls:   0.222     0.396     0.524   \n",
      "\n",
      "Batter Strategy (probability of swinging):\n",
      "     0 strikes   1 strike    2 strikes\n",
      "0 balls:   0.287     0.265     0.204   \n",
      "1 balls:   0.308     0.310     0.256   \n",
      "2 balls:   0.305     0.365     0.344   \n",
      "3 balls:   0.222     0.396     0.524   \n",
      "\n",
      "Expected Values:\n",
      "     0 strikes   1 strike    2 strikes   3 strikes\n",
      "0 balls:   0.649     0.415     0.185     0.000   \n",
      "1 balls:   0.743     0.498     0.232     0.000   \n",
      "2 balls:   0.851     0.617     0.312     0.000   \n",
      "3 balls:   0.954     0.793     0.476     0.000   \n",
      "4 balls:   1.000     1.000     1.000     0.000   \n"
     ]
    }
   ],
   "source": [
    "# Analyze strategies at optimal p\n",
    "V_opt, pitcher_opt, batter_opt = solve_game_value(optimal_p_final)\n",
    "\n",
    "print(\"Optimal Strategies at p = {optimal_p_final:.4f}:\")\n",
    "print(\"\\nPitcher Strategy (probability of throwing strike):\")\n",
    "print(\"     0 strikes   1 strike    2 strikes\")\n",
    "for b in range(4):\n",
    "    print(f\"{b} balls: \", end=\"\")\n",
    "    for s in range(3):\n",
    "        print(f\"  {pitcher_opt[b, s]:.3f}   \", end=\"\")\n",
    "    print()\n",
    "\n",
    "print(\"\\nBatter Strategy (probability of swinging):\")  \n",
    "print(\"     0 strikes   1 strike    2 strikes\")\n",
    "for b in range(4):\n",
    "    print(f\"{b} balls: \", end=\"\")\n",
    "    for s in range(3):\n",
    "        print(f\"  {batter_opt[b, s]:.3f}   \", end=\"\")\n",
    "    print()\n",
    "\n",
    "print(\"\\nExpected Values:\")\n",
    "print(\"     0 strikes   1 strike    2 strikes   3 strikes\")\n",
    "for b in range(5):\n",
    "    print(f\"{b} balls: \", end=\"\")\n",
    "    for s in range(4):\n",
    "        print(f\"  {V_opt[b, s]:.3f}   \", end=\"\")\n",
    "    print()"
   ]
  },
  {
   "cell_type": "markdown",
   "id": "4fe49188",
   "metadata": {},
   "source": [
    "## Step 6: Final Answer and Insights\n",
    "\n",
    "**My conclusions:**\n",
    "After running this analysis, we found that the optimal home run probability is around p = 0.227, which gives a maximum full count probability of q = 0.296.\n",
    "\n",
    "**Why this makes sense:**\n",
    "\n",
    "If p is too low, batters rarely swing, so games tend to end quickly with walks or strikeouts\n",
    "\n",
    "If p is too high, batters swing too often, making home runs more common and games shorter\n",
    "\n",
    "At p ≈ 0.227, there's a perfect balance where both players use mixed strategies that maximize the chance of reaching that exciting 3-2 count\n",
    "\n",
    "**Key insight:** The optimal p creates a situation where both players are truly uncertain about what the opponent will do, leading to the most interesting and prolonged at-bats."
   ]
  },
  {
   "cell_type": "code",
   "execution_count": 9,
   "id": "a9cb78ac",
   "metadata": {},
   "outputs": [
    {
     "name": "stdout",
     "output_type": "stream",
     "text": [
      "VERIFICATION:\n",
      "At p = 0.226973:\n",
      "q = 0.2959679934\n",
      "\n",
      "FINAL ANSWER (to 10 decimal places):\n",
      "q = 0.2959679934\n"
     ]
    }
   ],
   "source": [
    "# Final verification\n",
    "final_p = 0.226973\n",
    "final_q = compute_full_count_probability(final_p)\n",
    "\n",
    "print(\"VERIFICATION:\")\n",
    "print(f\"At p = {final_p:.6f}:\")\n",
    "print(f\"q = {final_q:.10f}\")\n",
    "\n",
    "# Round to 10 decimal places for the final answer\n",
    "final_answer = round(final_q, 10)\n",
    "print(f\"\\nFINAL ANSWER (to 10 decimal places):\")\n",
    "print(f\"q = {final_answer:.10f}\")"
   ]
  }
 ],
 "metadata": {
  "kernelspec": {
   "display_name": "base",
   "language": "python",
   "name": "python3"
  },
  "language_info": {
   "codemirror_mode": {
    "name": "ipython",
    "version": 3
   },
   "file_extension": ".py",
   "mimetype": "text/x-python",
   "name": "python",
   "nbconvert_exporter": "python",
   "pygments_lexer": "ipython3",
   "version": "3.12.7"
  }
 },
 "nbformat": 4,
 "nbformat_minor": 5
}
